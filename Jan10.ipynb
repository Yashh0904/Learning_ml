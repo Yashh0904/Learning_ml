{
 "cells": [
  {
   "cell_type": "code",
   "execution_count": 3,
   "id": "fdb69fab",
   "metadata": {},
   "outputs": [
    {
     "name": "stdout",
     "output_type": "stream",
     "text": [
      "HELLO I'M YASH. I AM LEARNING PYTHON\n"
     ]
    }
   ],
   "source": [
    "x=\"HELLO I'M YASH. I AM LEARNING PYTHON\"\n",
    "print(x)"
   ]
  },
  {
   "cell_type": "code",
   "execution_count": 4,
   "id": "69f0dc5c",
   "metadata": {},
   "outputs": [
    {
     "name": "stdout",
     "output_type": "stream",
     "text": [
      "36\n"
     ]
    }
   ],
   "source": [
    "print(len(x))"
   ]
  },
  {
   "cell_type": "code",
   "execution_count": 5,
   "id": "db570149",
   "metadata": {},
   "outputs": [
    {
     "name": "stdout",
     "output_type": "stream",
     "text": [
      "True\n"
     ]
    }
   ],
   "source": [
    "print(\"YASH\" in x)"
   ]
  },
  {
   "cell_type": "code",
   "execution_count": 6,
   "id": "23219be7",
   "metadata": {},
   "outputs": [
    {
     "name": "stdout",
     "output_type": "stream",
     "text": [
      "Yes, 'YASH' is present\n"
     ]
    }
   ],
   "source": [
    "if 'YASH' in x:\n",
    "    print(\"Yes, 'YASH' is present\")"
   ]
  },
  {
   "cell_type": "code",
   "execution_count": 8,
   "id": "ab6faa79",
   "metadata": {},
   "outputs": [
    {
     "name": "stdout",
     "output_type": "stream",
     "text": [
      "MYS.IA\n"
     ]
    }
   ],
   "source": [
    "print(x[8:20:2])"
   ]
  },
  {
   "cell_type": "code",
   "execution_count": 13,
   "id": "07013386",
   "metadata": {},
   "outputs": [
    {
     "name": "stdout",
     "output_type": "stream",
     "text": [
      "GIRE AI\n"
     ]
    }
   ],
   "source": [
    "print(x[-8:-21:-2])"
   ]
  },
  {
   "cell_type": "code",
   "execution_count": 14,
   "id": "dbb1051b",
   "metadata": {},
   "outputs": [
    {
     "name": "stdout",
     "output_type": "stream",
     "text": [
      "hello i'm yash. i am learning python\n"
     ]
    }
   ],
   "source": [
    "print(x.lower())"
   ]
  },
  {
   "cell_type": "code",
   "execution_count": 15,
   "id": "273baeb0",
   "metadata": {},
   "outputs": [
    {
     "name": "stdout",
     "output_type": "stream",
     "text": [
      "   I'M YASH  \n",
      "I'm Yash\n"
     ]
    }
   ],
   "source": [
    "a=\"   I'm Yash  \"\n",
    "print(a.upper())\n",
    "print(a.strip())"
   ]
  },
  {
   "cell_type": "code",
   "execution_count": 17,
   "id": "886516e1",
   "metadata": {},
   "outputs": [
    {
     "name": "stdout",
     "output_type": "stream",
     "text": [
      "[\"HELLO I'M YASH\", ' I AM LEARNING PYTHON']\n"
     ]
    }
   ],
   "source": [
    "print(x.split('.'))"
   ]
  },
  {
   "cell_type": "code",
   "execution_count": 18,
   "id": "2f460df9",
   "metadata": {},
   "outputs": [
    {
     "name": "stdout",
     "output_type": "stream",
     "text": [
      "I'm 19 years old. I wasted 2 hours\n"
     ]
    }
   ],
   "source": [
    "age=19\n",
    "time=2\n",
    "sen=\"I'm {} years old. I wasted {} hours\"\n",
    "print(sen.format(age,time))"
   ]
  },
  {
   "cell_type": "markdown",
   "id": "9a60014c",
   "metadata": {},
   "source": [
    "# Lists"
   ]
  },
  {
   "cell_type": "code",
   "execution_count": 48,
   "id": "53c2cb58",
   "metadata": {},
   "outputs": [
    {
     "name": "stdout",
     "output_type": "stream",
     "text": [
      "['apple', 'mango', 'watermelon', 'grapes', 'orange']\n"
     ]
    }
   ],
   "source": [
    "l=[\"apple\",\"mango\",\"watermelon\",\"grapes\",\"orange\"]\n",
    "print(l)"
   ]
  },
  {
   "cell_type": "code",
   "execution_count": 49,
   "id": "60aa2df6",
   "metadata": {},
   "outputs": [
    {
     "name": "stdout",
     "output_type": "stream",
     "text": [
      "5\n"
     ]
    }
   ],
   "source": [
    "print(len(l))"
   ]
  },
  {
   "cell_type": "code",
   "execution_count": 50,
   "id": "e50760ac",
   "metadata": {},
   "outputs": [
    {
     "name": "stdout",
     "output_type": "stream",
     "text": [
      "mango\n"
     ]
    }
   ],
   "source": [
    "print(l[1])"
   ]
  },
  {
   "cell_type": "code",
   "execution_count": 51,
   "id": "c715db88",
   "metadata": {},
   "outputs": [
    {
     "name": "stdout",
     "output_type": "stream",
     "text": [
      "['mango', 'watermelon', 'grapes']\n"
     ]
    }
   ],
   "source": [
    "print(l[1:4])"
   ]
  },
  {
   "cell_type": "code",
   "execution_count": 52,
   "id": "f1ff3f25",
   "metadata": {},
   "outputs": [
    {
     "name": "stdout",
     "output_type": "stream",
     "text": [
      "['mango', 'watermelon']\n"
     ]
    }
   ],
   "source": [
    "print(l[-4:-2])"
   ]
  },
  {
   "cell_type": "code",
   "execution_count": 53,
   "id": "db3edbb2",
   "metadata": {},
   "outputs": [
    {
     "name": "stdout",
     "output_type": "stream",
     "text": [
      "Yes, 'mango' is present\n"
     ]
    }
   ],
   "source": [
    "if \"mango\" in l:\n",
    "    print(\"Yes, 'mango' is present\")"
   ]
  },
  {
   "cell_type": "code",
   "execution_count": 54,
   "id": "434494fe",
   "metadata": {},
   "outputs": [
    {
     "name": "stdout",
     "output_type": "stream",
     "text": [
      "['apple', 'mango', 'watermelon', 'pie', 'orange']\n"
     ]
    }
   ],
   "source": [
    "l[3]=\"pie\"\n",
    "print(l)"
   ]
  },
  {
   "cell_type": "raw",
   "id": "037576cc",
   "metadata": {},
   "source": [
    "l.insert(3,\"Vietnam\")\n",
    "print(l)"
   ]
  },
  {
   "cell_type": "code",
   "execution_count": 55,
   "id": "40887fc7",
   "metadata": {},
   "outputs": [
    {
     "name": "stdout",
     "output_type": "stream",
     "text": [
      "['apple', 'mango', 'watermelon', 'Vietnam', 'pie', 'orange']\n"
     ]
    }
   ],
   "source": [
    "l.insert(3,\"Vietnam\")\n",
    "print(l)"
   ]
  },
  {
   "cell_type": "code",
   "execution_count": 56,
   "id": "8d61ad16",
   "metadata": {},
   "outputs": [
    {
     "name": "stdout",
     "output_type": "stream",
     "text": [
      "['apple', 'mango', 'watermelon', 'Vietnam', 'pie', 'orange', 'Burkina Faso']\n"
     ]
    }
   ],
   "source": [
    "l.append(\"Burkina Faso\")\n",
    "print(l)"
   ]
  },
  {
   "cell_type": "code",
   "execution_count": 57,
   "id": "74572bf8",
   "metadata": {},
   "outputs": [
    {
     "name": "stdout",
     "output_type": "stream",
     "text": [
      "['apple', 'mango', 'watermelon', 'Vietnam', 'pie', 'orange', 'Burkina Faso', 'Nicaragua', 'Checia', 'Senegal', 'Brunei']\n"
     ]
    }
   ],
   "source": [
    "countries=[\"Nicaragua\",\"Checia\",\"Senegal\",\"Brunei\"]\n",
    "l.extend(countries)\n",
    "print(l)"
   ]
  },
  {
   "cell_type": "code",
   "execution_count": 58,
   "id": "a26b7506",
   "metadata": {},
   "outputs": [
    {
     "name": "stdout",
     "output_type": "stream",
     "text": [
      "['apple', 'mango', 'watermelon', 'Vietnam', 'orange', 'Burkina Faso', 'Nicaragua', 'Checia', 'Senegal', 'Brunei']\n"
     ]
    }
   ],
   "source": [
    "l.remove(\"pie\")\n",
    "print(l)"
   ]
  },
  {
   "cell_type": "code",
   "execution_count": 59,
   "id": "39898c36",
   "metadata": {},
   "outputs": [
    {
     "name": "stdout",
     "output_type": "stream",
     "text": [
      "['apple', 'mango', 'watermelon', 'orange', 'Burkina Faso', 'Nicaragua', 'Checia', 'Senegal', 'Brunei']\n"
     ]
    }
   ],
   "source": [
    "l.pop(3)\n",
    "print(l)"
   ]
  },
  {
   "cell_type": "code",
   "execution_count": 60,
   "id": "1e46a7b1",
   "metadata": {},
   "outputs": [
    {
     "name": "stdout",
     "output_type": "stream",
     "text": [
      "['apple', 'mango', 'watermelon', 'orange', 'Burkina Faso', 'Nicaragua', 'Senegal', 'Brunei']\n"
     ]
    }
   ],
   "source": [
    "del l[-3]\n",
    "print(l)"
   ]
  },
  {
   "cell_type": "code",
   "execution_count": 61,
   "id": "a6e77d71",
   "metadata": {},
   "outputs": [
    {
     "name": "stdout",
     "output_type": "stream",
     "text": [
      "apple\n",
      "mango\n",
      "watermelon\n",
      "orange\n",
      "Burkina Faso\n",
      "Nicaragua\n",
      "Senegal\n",
      "Brunei\n"
     ]
    }
   ],
   "source": [
    "for a in l:\n",
    "    print(a)"
   ]
  },
  {
   "cell_type": "code",
   "execution_count": 62,
   "id": "874ab7e2",
   "metadata": {},
   "outputs": [
    {
     "name": "stdout",
     "output_type": "stream",
     "text": [
      "['mango', 'watermelon', 'orange', 'Burkina Faso']\n"
     ]
    }
   ],
   "source": [
    "newl=[x for x in l if \"o\" in x]\n",
    "print(newl)"
   ]
  },
  {
   "cell_type": "code",
   "execution_count": 65,
   "id": "34a65f11",
   "metadata": {},
   "outputs": [
    {
     "name": "stdout",
     "output_type": "stream",
     "text": [
      "['APPLE', 'MANGO', 'WATERMELON', 'ORANGE', 'BURKINA FASO', 'NICARAGUA', 'SENEGAL', 'BRUNEI']\n"
     ]
    }
   ],
   "source": [
    "newlist=[a.upper() for a in l]\n",
    "print(newlist)"
   ]
  },
  {
   "cell_type": "code",
   "execution_count": 66,
   "id": "d0e5b84e",
   "metadata": {},
   "outputs": [
    {
     "name": "stdout",
     "output_type": "stream",
     "text": [
      "['APPLE', 'BRUNEI', 'BURKINA FASO', 'MANGO', 'NICARAGUA', 'ORANGE', 'SENEGAL', 'WATERMELON']\n"
     ]
    }
   ],
   "source": [
    "newlist.sort()\n",
    "print(newlist)"
   ]
  },
  {
   "cell_type": "code",
   "execution_count": 67,
   "id": "df5370bb",
   "metadata": {},
   "outputs": [
    {
     "name": "stdout",
     "output_type": "stream",
     "text": [
      "['WATERMELON', 'SENEGAL', 'ORANGE', 'NICARAGUA', 'MANGO', 'BURKINA FASO', 'BRUNEI', 'APPLE']\n"
     ]
    }
   ],
   "source": [
    "newlist.sort(reverse= True)\n",
    "print(newlist)"
   ]
  },
  {
   "cell_type": "code",
   "execution_count": 68,
   "id": "863b9613",
   "metadata": {},
   "outputs": [
    {
     "name": "stdout",
     "output_type": "stream",
     "text": [
      "['Brunei', 'Burkina Faso', 'Nicaragua', 'Senegal', 'apple', 'mango', 'orange', 'watermelon']\n"
     ]
    }
   ],
   "source": [
    "l.sort()\n",
    "print(l)"
   ]
  },
  {
   "cell_type": "code",
   "execution_count": 69,
   "id": "060b163d",
   "metadata": {},
   "outputs": [
    {
     "name": "stdout",
     "output_type": "stream",
     "text": [
      "['watermelon', 'orange', 'mango', 'apple', 'Senegal', 'Nicaragua', 'Burkina Faso', 'Brunei']\n"
     ]
    }
   ],
   "source": [
    "l.reverse()\n",
    "print(l)"
   ]
  },
  {
   "cell_type": "code",
   "execution_count": null,
   "id": "bea08aac",
   "metadata": {},
   "outputs": [],
   "source": []
  }
 ],
 "metadata": {
  "kernelspec": {
   "display_name": "Python 3 (ipykernel)",
   "language": "python",
   "name": "python3"
  },
  "language_info": {
   "codemirror_mode": {
    "name": "ipython",
    "version": 3
   },
   "file_extension": ".py",
   "mimetype": "text/x-python",
   "name": "python",
   "nbconvert_exporter": "python",
   "pygments_lexer": "ipython3",
   "version": "3.11.5"
  }
 },
 "nbformat": 4,
 "nbformat_minor": 5
}
