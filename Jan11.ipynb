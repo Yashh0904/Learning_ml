{
 "cells": [
  {
   "cell_type": "code",
   "execution_count": 1,
   "id": "51952c82",
   "metadata": {},
   "outputs": [],
   "source": [
    "def greet(name):\n",
    "    print(\"Hello, \"+name+\"!\")"
   ]
  },
  {
   "cell_type": "code",
   "execution_count": 2,
   "id": "7b411ede",
   "metadata": {},
   "outputs": [
    {
     "name": "stdout",
     "output_type": "stream",
     "text": [
      "Hello, Yash!\n"
     ]
    }
   ],
   "source": [
    "greet(\"Yash\")"
   ]
  },
  {
   "cell_type": "code",
   "execution_count": 5,
   "id": "945d57a5",
   "metadata": {},
   "outputs": [
    {
     "name": "stdout",
     "output_type": "stream",
     "text": [
      "10\n"
     ]
    }
   ],
   "source": [
    "def add(a,b):\n",
    "    print(a+b)\n",
    "add(7,3)"
   ]
  },
  {
   "cell_type": "code",
   "execution_count": 9,
   "id": "f6ba6273",
   "metadata": {},
   "outputs": [
    {
     "name": "stdout",
     "output_type": "stream",
     "text": [
      "125\n"
     ]
    }
   ],
   "source": [
    "def exponent(a,b=2):\n",
    "    c=a**b\n",
    "    return c\n",
    "print(exponent(5,3))"
   ]
  },
  {
   "cell_type": "code",
   "execution_count": 10,
   "id": "ecb50255",
   "metadata": {},
   "outputs": [
    {
     "name": "stdout",
     "output_type": "stream",
     "text": [
      "('Abhishek', 18)\n"
     ]
    }
   ],
   "source": [
    "def person(name, age):\n",
    "    return name, age\n",
    "b=person(\"Abhishek\",18)\n",
    "print(b)"
   ]
  },
  {
   "cell_type": "code",
   "execution_count": 16,
   "id": "c5cd27f8",
   "metadata": {},
   "outputs": [
    {
     "name": "stdout",
     "output_type": "stream",
     "text": [
      "10\n"
     ]
    }
   ],
   "source": [
    "c=15\n",
    "def updatec():\n",
    "    global c\n",
    "    c=10\n",
    "updatec()\n",
    "print(c)"
   ]
  },
  {
   "cell_type": "code",
   "execution_count": 17,
   "id": "2810a46a",
   "metadata": {},
   "outputs": [
    {
     "name": "stdout",
     "output_type": "stream",
     "text": [
      "<class 'int'>\n"
     ]
    }
   ],
   "source": [
    "a=5\n",
    "print(type(a))"
   ]
  },
  {
   "cell_type": "code",
   "execution_count": 18,
   "id": "eb694f95",
   "metadata": {},
   "outputs": [
    {
     "name": "stdout",
     "output_type": "stream",
     "text": [
      "120\n"
     ]
    }
   ],
   "source": [
    "def factorial(n):\n",
    "    if n==0 or n==1:\n",
    "        return 1\n",
    "    else:\n",
    "        return n*factorial(n-1)\n",
    "print(factorial(5))"
   ]
  },
  {
   "cell_type": "code",
   "execution_count": 20,
   "id": "d1c44661",
   "metadata": {},
   "outputs": [
    {
     "name": "stdout",
     "output_type": "stream",
     "text": [
      "64\n"
     ]
    }
   ],
   "source": [
    "expo= lambda x,y:(x**y)\n",
    "print(expo(4,3))"
   ]
  },
  {
   "cell_type": "code",
   "execution_count": 21,
   "id": "0843ab12",
   "metadata": {},
   "outputs": [
    {
     "name": "stdout",
     "output_type": "stream",
     "text": [
      "[1, 4, 9, 16]\n"
     ]
    }
   ],
   "source": [
    "lst=[1,2,3,4]\n",
    "new_lst=list(map(lambda x:x**2, lst))\n",
    "print(new_lst)"
   ]
  },
  {
   "cell_type": "code",
   "execution_count": 22,
   "id": "e229e305",
   "metadata": {},
   "outputs": [
    {
     "name": "stdout",
     "output_type": "stream",
     "text": [
      "[1, 4, 9, 16]\n"
     ]
    }
   ],
   "source": [
    "nlst=[x**2 for x in lst]\n",
    "print(nlst)"
   ]
  },
  {
   "cell_type": "code",
   "execution_count": 24,
   "id": "514fb70a",
   "metadata": {},
   "outputs": [
    {
     "name": "stdout",
     "output_type": "stream",
     "text": [
      "8\n"
     ]
    }
   ],
   "source": [
    "def stringlen(str):\n",
    "    return len(str)\n",
    "print(stringlen(\"I'm Yash\"))"
   ]
  },
  {
   "cell_type": "markdown",
   "id": "7f619ea9",
   "metadata": {},
   "source": [
    "# higher order functions"
   ]
  },
  {
   "cell_type": "code",
   "execution_count": 34,
   "id": "60b06b3f",
   "metadata": {},
   "outputs": [
    {
     "name": "stdout",
     "output_type": "stream",
     "text": [
      "Hello\n",
      "Time: 0.0\n"
     ]
    }
   ],
   "source": [
    "import time\n",
    "def timetaken(func):\n",
    "    def wrapper():\n",
    "        st=time.time()\n",
    "        func()\n",
    "        end=time.time()\n",
    "        print(\"Time:\", end-st);\n",
    "    return wrapper\n",
    "@timetaken\n",
    "def func():\n",
    "    print(\"Hello\")\n",
    "func()\n",
    "        "
   ]
  },
  {
   "cell_type": "code",
   "execution_count": null,
   "id": "1c449413",
   "metadata": {},
   "outputs": [],
   "source": []
  }
 ],
 "metadata": {
  "kernelspec": {
   "display_name": "Python 3 (ipykernel)",
   "language": "python",
   "name": "python3"
  },
  "language_info": {
   "codemirror_mode": {
    "name": "ipython",
    "version": 3
   },
   "file_extension": ".py",
   "mimetype": "text/x-python",
   "name": "python",
   "nbconvert_exporter": "python",
   "pygments_lexer": "ipython3",
   "version": "3.11.5"
  }
 },
 "nbformat": 4,
 "nbformat_minor": 5
}
